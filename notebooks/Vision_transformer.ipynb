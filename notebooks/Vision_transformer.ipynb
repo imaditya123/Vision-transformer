{
  "nbformat": 4,
  "nbformat_minor": 0,
  "metadata": {
    "colab": {
      "provenance": [],
      "machine_shape": "hm",
      "gpuType": "A100"
    },
    "kernelspec": {
      "name": "python3",
      "display_name": "Python 3"
    },
    "language_info": {
      "name": "python"
    },
    "accelerator": "GPU"
  },
  "cells": [
    {
      "cell_type": "markdown",
      "source": [
        "#Vision Transformer\n",
        "\n",
        "![vit_figure.png]( https://raw.githubusercontent.com/google-research/vision_transformer/main/vit_figure.png)"
      ],
      "metadata": {
        "id": "SwDfvrRCpugm"
      }
    },
    {
      "cell_type": "markdown",
      "source": [
        "##Imports"
      ],
      "metadata": {
        "id": "h7S-D-gDlfW5"
      }
    },
    {
      "cell_type": "code",
      "execution_count": 3,
      "metadata": {
        "id": "i6nQBZyQTPP8"
      },
      "outputs": [],
      "source": [
        "import torch\n",
        "import torch.nn as nn\n",
        "import torch.nn.functional as F\n",
        "\n",
        "import torchvision.transforms as transforms\n",
        "import torchvision.datasets as datasets\n",
        "from torch.utils.data import DataLoader\n",
        "\n",
        "\n",
        "import torch.optim as optim\n",
        "import math\n",
        "\n",
        "from tqdm import tqdm\n"
      ]
    },
    {
      "cell_type": "markdown",
      "source": [
        "##Model"
      ],
      "metadata": {
        "id": "uH4RsWZ6lb9s"
      }
    },
    {
      "cell_type": "code",
      "source": [
        "def initialize_weights(x):\n",
        "  nn.init.xavier_uniform_(x.weight)\n",
        "  if x.bias is not None:\n",
        "    nn.init.constant_(x.bias,0)"
      ],
      "metadata": {
        "id": "5Y5vfzzBfBBK"
      },
      "execution_count": 4,
      "outputs": []
    },
    {
      "cell_type": "code",
      "source": [
        "class Attention(nn.Module):\n",
        "  def __init__(self,embed_dim,head_dim,dropout_rate):\n",
        "    super(Attention,self).__init__()\n",
        "\n",
        "    self.query=nn.Linear(embed_dim,head_dim)\n",
        "    self.key=nn.Linear(embed_dim,head_dim)\n",
        "    self.value=nn.Linear(embed_dim,head_dim)\n",
        "    self.dropout=nn.Dropout(dropout_rate)\n",
        "\n",
        "    initialize_weights(self.query)\n",
        "    initialize_weights(self.key)\n",
        "    initialize_weights(self.value)\n",
        "\n",
        "\n",
        "  def forward(self,query,key,value,mask=None):\n",
        "    d_k=query.size(-1)\n",
        "\n",
        "    q=self.query(query)\n",
        "    k=self.key(key)\n",
        "    v=self.value(value)\n",
        "\n",
        "    scores=q @ k.transpose(1,2) /math.sqrt(d_k)\n",
        "    if mask is not None:\n",
        "      # mask = mask.unsqueeze(1)\n",
        "      scores = scores.masked_fill(mask == 0, float('-inf'))\n",
        "\n",
        "    weights=F.softmax(scores,dim=-1)\n",
        "    weights=self.dropout(weights)\n",
        "    out=weights @ v\n",
        "    return out"
      ],
      "metadata": {
        "id": "MdrHVGX6eXiP"
      },
      "execution_count": 5,
      "outputs": []
    },
    {
      "cell_type": "code",
      "source": [
        "class MultiheadAttention(nn.Module):\n",
        "  def __init__(self,embed_dim,head_size,dropout_rate):\n",
        "    super(MultiheadAttention,self).__init__()\n",
        "\n",
        "    # Validate that embed_dim is divisible by head_size\n",
        "    assert embed_dim % head_size == 0, \"embed_dim must be divisible by head_size\"\n",
        "\n",
        "    self.head_dim=embed_dim//head_size\n",
        "    self.embed_dim=embed_dim\n",
        "    self.head_size=head_size\n",
        "\n",
        "    self.attn_heads=nn.ModuleList([Attention(embed_dim,self.head_dim,dropout_rate) for _ in range(head_size)])\n",
        "    self.out_layer=nn.Linear(self.head_dim*head_size,embed_dim)\n",
        "    self.dropout=nn.Dropout(dropout_rate)\n",
        "\n",
        "    initialize_weights(self.out_layer)\n",
        "\n",
        "\n",
        "  def forward(self,query,key,value,mask=None):\n",
        "\n",
        "    out=torch.cat([h(query,key,value,mask) for h in self.attn_heads],dim=-1)\n",
        "    out=self.dropout(self.out_layer(out))\n",
        "    return out"
      ],
      "metadata": {
        "id": "AgQmwf5jewDQ"
      },
      "execution_count": 6,
      "outputs": []
    },
    {
      "cell_type": "code",
      "source": [
        "class ViTMLP(nn.Module):\n",
        "  def __init__(self,hidden_dim,filter_size,dropout=0.5):\n",
        "    super(ViTMLP,self).__init__()\n",
        "    self.linear1=nn.Linear(hidden_dim,filter_size)\n",
        "    self.gelu=nn.GELU()\n",
        "    self.dropout1=nn.Dropout(dropout)\n",
        "    self.linear2=nn.Linear(filter_size,hidden_dim)\n",
        "    self.dropout2=nn.Dropout(dropout)\n",
        "\n",
        "    initialize_weights(self.linear1)\n",
        "    initialize_weights(self.linear2)\n",
        "\n",
        "  def forward(self,x):\n",
        "    x=self.linear1(x)\n",
        "    x=self.gelu(x)\n",
        "    x=self.dropout1(x)\n",
        "    x=self.linear2(x)\n",
        "    x=self.dropout2(x)\n",
        "    return x"
      ],
      "metadata": {
        "id": "dWlysyX-qEW0"
      },
      "execution_count": 7,
      "outputs": []
    },
    {
      "cell_type": "code",
      "source": [
        "class PatchEmbedding(nn.Module):\n",
        "  def __init__(self,img_size=96,patch_size=16,hidden_dim=512):\n",
        "    super(PatchEmbedding,self).__init__()\n",
        "\n",
        "    self.num_patches = (img_size // patch_size) ** 2\n",
        "    self.conv=nn.LazyConv2d(hidden_dim,kernel_size=patch_size,stride=patch_size)\n",
        "\n",
        "  def forward(self,x):\n",
        "    return self.conv(x).flatten(2).transpose(1,2)"
      ],
      "metadata": {
        "id": "e1DJBtH1TZbw"
      },
      "execution_count": 8,
      "outputs": []
    },
    {
      "cell_type": "code",
      "source": [
        "class VitBlock(nn.Module):\n",
        "  def __init__(self,hidden_dim,norm_shape,filter_size,num_heads,dropout):\n",
        "    super(VitBlock,self).__init__()\n",
        "    self.attn_norm=nn.LayerNorm(norm_shape)\n",
        "    self.attn=MultiheadAttention(embed_dim=hidden_dim,head_size=num_heads,dropout_rate=dropout)\n",
        "\n",
        "    self.mlp_norm=nn.LayerNorm(norm_shape)\n",
        "    self.mlp=ViTMLP(hidden_dim=hidden_dim,filter_size=filter_size,dropout=dropout)\n",
        "\n",
        "\n",
        "  def forward(self,x,valid_lens=None):\n",
        "    y=self.attn_norm(x)\n",
        "    y=self.attn(y,y,y,valid_lens)\n",
        "    x=x+y\n",
        "\n",
        "    y=self.mlp_norm(x)\n",
        "    y=self.mlp(y)\n",
        "    x=x+y\n",
        "\n",
        "    return x"
      ],
      "metadata": {
        "id": "2BjvieSLVWUv"
      },
      "execution_count": 9,
      "outputs": []
    },
    {
      "cell_type": "code",
      "source": [
        "x=torch.ones((2,100,24))\n",
        "encoder_blk=VitBlock(24,24,48,8,0.5)\n",
        "encoder_blk.eval()\n",
        "y=encoder_blk(x)\n",
        "\n",
        "y.shape,x.shape"
      ],
      "metadata": {
        "colab": {
          "base_uri": "https://localhost:8080/"
        },
        "id": "327XrgNWvYN2",
        "outputId": "ef7cad5f-4996-4ecf-b8cb-954fb8152677"
      },
      "execution_count": 10,
      "outputs": [
        {
          "output_type": "execute_result",
          "data": {
            "text/plain": [
              "(torch.Size([2, 100, 24]), torch.Size([2, 100, 24]))"
            ]
          },
          "metadata": {},
          "execution_count": 10
        }
      ]
    },
    {
      "cell_type": "code",
      "source": [
        "class ViT(nn.Module):\n",
        "  def __init__(self,img_size,patch_size,hidden_dim,filter_size,num_heads,n_layers,dropout_rate,lr=0.1,num_classes=10):\n",
        "    super(ViT,self).__init__()\n",
        "    self.patch_embedding=PatchEmbedding(img_size=img_size,patch_size=patch_size,hidden_dim=hidden_dim)\n",
        "\n",
        "    self.cls_token=nn.Parameter(torch.zeros(1,1,hidden_dim))\n",
        "    num_steps=self.patch_embedding.num_patches+1\n",
        "    self.pos_embedding=nn.Parameter(torch.randn(1,num_steps,hidden_dim))\n",
        "\n",
        "    self.dropout=nn.Dropout(dropout_rate)\n",
        "    self.layers=nn.ModuleList([VitBlock(hidden_dim=hidden_dim,norm_shape=hidden_dim,filter_size=filter_size,num_heads=num_heads,dropout=dropout_rate) for _ in range(n_layers)])\n",
        "\n",
        "    self.out=nn.Sequential(nn.LayerNorm(hidden_dim),nn.Linear(hidden_dim,num_classes))\n",
        "\n",
        "\n",
        "  def forward(self,x):\n",
        "    x=self.patch_embedding(x)\n",
        "    x=torch.cat((self.cls_token.expand(x.shape[0],-1,-1),x),1)\n",
        "    x=self.dropout(x+self.pos_embedding)\n",
        "\n",
        "    for layer in self.layers:\n",
        "      x=layer(x)\n",
        "\n",
        "    return self.out(x[:,0])"
      ],
      "metadata": {
        "id": "NSWXRsxWYOCz"
      },
      "execution_count": 11,
      "outputs": []
    },
    {
      "cell_type": "markdown",
      "source": [
        "## Dataset"
      ],
      "metadata": {
        "id": "wG6c1VbllzAk"
      }
    },
    {
      "cell_type": "code",
      "source": [
        "# Data Transformations\n",
        "transform = transforms.Compose([\n",
        "    transforms.Resize((224, 224)),  # Resize to ViT input size\n",
        "    transforms.ToTensor(),\n",
        "    transforms.Normalize(mean=[0.5, 0.5, 0.5], std=[0.5, 0.5, 0.5])\n",
        "])\n"
      ],
      "metadata": {
        "id": "cfKO8EBhva4h"
      },
      "execution_count": 12,
      "outputs": []
    },
    {
      "cell_type": "code",
      "source": [
        "# Load Train & Test Datasets\n",
        "train_dataset = datasets.CIFAR10(root='./data', train=True, transform=transform, download=True)\n",
        "test_dataset = datasets.CIFAR10(root='./data', train=False, transform=transform, download=True)\n",
        "\n",
        "# Data Loaders\n",
        "train_loader = DataLoader(train_dataset, batch_size=64, shuffle=True)\n",
        "test_loader = DataLoader(test_dataset, batch_size=64, shuffle=False)\n"
      ],
      "metadata": {
        "colab": {
          "base_uri": "https://localhost:8080/"
        },
        "id": "siTQgFOfmHz-",
        "outputId": "f4346d2d-a1f1-4254-b51f-c8a4e0587ef2"
      },
      "execution_count": 13,
      "outputs": [
        {
          "output_type": "stream",
          "name": "stdout",
          "text": [
            "Downloading https://www.cs.toronto.edu/~kriz/cifar-10-python.tar.gz to ./data/cifar-10-python.tar.gz\n"
          ]
        },
        {
          "output_type": "stream",
          "name": "stderr",
          "text": [
            "100%|██████████| 170M/170M [00:12<00:00, 13.2MB/s]\n"
          ]
        },
        {
          "output_type": "stream",
          "name": "stdout",
          "text": [
            "Extracting ./data/cifar-10-python.tar.gz to ./data\n",
            "Files already downloaded and verified\n"
          ]
        }
      ]
    },
    {
      "cell_type": "code",
      "source": [
        "# Model Initialization\n",
        "device = torch.device(\"cuda\" if torch.cuda.is_available() else \"cpu\")\n",
        "model = ViT(img_size=224, patch_size=16, hidden_dim=768, filter_size=2048, num_heads=8, n_layers=6, dropout_rate=0.1, num_classes=10).to(device)\n"
      ],
      "metadata": {
        "id": "NV3A3wPPmKDb"
      },
      "execution_count": 14,
      "outputs": []
    },
    {
      "cell_type": "code",
      "source": [
        "criterion = nn.CrossEntropyLoss()  # Loss function\n",
        "optimizer = optim.Adam(model.parameters(), lr=1e-4)  # Optimizer"
      ],
      "metadata": {
        "id": "2hhI8_zAmoTt"
      },
      "execution_count": 15,
      "outputs": []
    },
    {
      "cell_type": "code",
      "source": [
        "def test(model, test_loader, criterion, device):\n",
        "    model.eval()  # Set model to evaluation mode\n",
        "    running_loss = 0.0\n",
        "    correct = 0\n",
        "    total = 0\n",
        "\n",
        "    with torch.no_grad():  # Disable gradient computation\n",
        "        for images, labels in tqdm(test_loader,leave=False):\n",
        "            images, labels = images.to(device), labels.to(device)\n",
        "\n",
        "            outputs = model(images)  # Forward pass\n",
        "            loss = criterion(outputs, labels)  # Compute loss\n",
        "\n",
        "            running_loss += loss.item()\n",
        "            _, predicted = torch.max(outputs, 1)\n",
        "            correct += (predicted == labels).sum().item()\n",
        "            total += labels.size(0)\n",
        "\n",
        "    avg_loss = running_loss / len(test_loader)\n",
        "    accuracy = 100 * correct / total\n",
        "    return avg_loss, accuracy"
      ],
      "metadata": {
        "id": "yGbTHmKkncHl"
      },
      "execution_count": 16,
      "outputs": []
    },
    {
      "cell_type": "code",
      "source": [
        "def train(model, train_loader,test_loader, criterion, optimizer, device,num_epochs=10):\n",
        "\n",
        "    for epoch in range(num_epochs):\n",
        "      model.train()  # Set model to training mode\n",
        "      running_loss = 0.0\n",
        "      correct = 0\n",
        "      total = 0\n",
        "      for images, labels in tqdm(train_loader):\n",
        "          images, labels = images.to(device), labels.to(device)  # Move to GPU/CPU\n",
        "\n",
        "          optimizer.zero_grad()  # Reset gradients\n",
        "          outputs = model(images)  # Forward pass\n",
        "          loss = criterion(outputs, labels)  # Compute loss\n",
        "          loss.backward()  # Backpropagation\n",
        "          optimizer.step()  # Update weights\n",
        "\n",
        "          running_loss += loss.item()\n",
        "          _, predicted = torch.max(outputs, 1)  # Get predictions\n",
        "          correct += (predicted == labels).sum().item()\n",
        "          total += labels.size(0)\n",
        "\n",
        "      train_avg_loss = running_loss / len(train_loader)\n",
        "      train_accuracy = 100 * correct / total\n",
        "      test_loss,test_acc=test(model, test_loader, criterion, device)\n",
        "      print(f\"Training: Loss({train_avg_loss:4f}), Acc({train_accuracy:4f})| Test: Loss({test_loss:4f}), Acc({test_acc:4f})\")\n"
      ],
      "metadata": {
        "id": "GatSZBLJmZrr"
      },
      "execution_count": 17,
      "outputs": []
    },
    {
      "cell_type": "code",
      "source": [],
      "metadata": {
        "id": "Jk6neNM-y7O_"
      },
      "execution_count": null,
      "outputs": []
    },
    {
      "cell_type": "code",
      "source": [
        "train(model,train_loader=train_loader,test_loader=test_loader,criterion=criterion,device=device,optimizer=optimizer)"
      ],
      "metadata": {
        "colab": {
          "base_uri": "https://localhost:8080/"
        },
        "id": "1-neTcnUvdKs",
        "outputId": "7bda8fa8-b26e-4db2-a025-ea7e0298856f"
      },
      "execution_count": 18,
      "outputs": [
        {
          "output_type": "stream",
          "name": "stderr",
          "text": [
            "100%|██████████| 782/782 [03:53<00:00,  3.35it/s]\n"
          ]
        },
        {
          "output_type": "stream",
          "name": "stdout",
          "text": [
            "Training: Loss(1.758894), Acc(35.598000)| Test: Loss(1.492640), Acc(46.160000)\n"
          ]
        },
        {
          "output_type": "stream",
          "name": "stderr",
          "text": [
            "100%|██████████| 782/782 [03:52<00:00,  3.37it/s]\n"
          ]
        },
        {
          "output_type": "stream",
          "name": "stdout",
          "text": [
            "Training: Loss(1.425696), Acc(48.292000)| Test: Loss(1.342738), Acc(51.590000)\n"
          ]
        },
        {
          "output_type": "stream",
          "name": "stderr",
          "text": [
            "100%|██████████| 782/782 [03:51<00:00,  3.38it/s]\n"
          ]
        },
        {
          "output_type": "stream",
          "name": "stdout",
          "text": [
            "Training: Loss(1.264460), Acc(54.356000)| Test: Loss(1.232427), Acc(55.240000)\n"
          ]
        },
        {
          "output_type": "stream",
          "name": "stderr",
          "text": [
            "100%|██████████| 782/782 [03:51<00:00,  3.38it/s]\n"
          ]
        },
        {
          "output_type": "stream",
          "name": "stdout",
          "text": [
            "Training: Loss(1.140659), Acc(59.172000)| Test: Loss(1.147892), Acc(58.460000)\n"
          ]
        },
        {
          "output_type": "stream",
          "name": "stderr",
          "text": [
            "100%|██████████| 782/782 [03:52<00:00,  3.37it/s]\n"
          ]
        },
        {
          "output_type": "stream",
          "name": "stdout",
          "text": [
            "Training: Loss(1.037167), Acc(62.876000)| Test: Loss(1.108667), Acc(61.160000)\n"
          ]
        },
        {
          "output_type": "stream",
          "name": "stderr",
          "text": [
            "100%|██████████| 782/782 [03:52<00:00,  3.37it/s]\n"
          ]
        },
        {
          "output_type": "stream",
          "name": "stdout",
          "text": [
            "Training: Loss(0.958200), Acc(65.630000)| Test: Loss(1.100553), Acc(61.660000)\n"
          ]
        },
        {
          "output_type": "stream",
          "name": "stderr",
          "text": [
            "100%|██████████| 782/782 [03:52<00:00,  3.37it/s]\n"
          ]
        },
        {
          "output_type": "stream",
          "name": "stdout",
          "text": [
            "Training: Loss(0.873590), Acc(68.850000)| Test: Loss(1.065220), Acc(62.610000)\n"
          ]
        },
        {
          "output_type": "stream",
          "name": "stderr",
          "text": [
            "100%|██████████| 782/782 [03:51<00:00,  3.38it/s]\n"
          ]
        },
        {
          "output_type": "stream",
          "name": "stdout",
          "text": [
            "Training: Loss(0.800464), Acc(71.236000)| Test: Loss(1.096791), Acc(62.570000)\n"
          ]
        },
        {
          "output_type": "stream",
          "name": "stderr",
          "text": [
            "100%|██████████| 782/782 [03:51<00:00,  3.37it/s]\n"
          ]
        },
        {
          "output_type": "stream",
          "name": "stdout",
          "text": [
            "Training: Loss(0.722993), Acc(74.176000)| Test: Loss(1.077523), Acc(64.250000)\n"
          ]
        },
        {
          "output_type": "stream",
          "name": "stderr",
          "text": [
            "100%|██████████| 782/782 [03:51<00:00,  3.38it/s]\n",
            "                                                 "
          ]
        },
        {
          "output_type": "stream",
          "name": "stdout",
          "text": [
            "Training: Loss(0.644595), Acc(76.566000)| Test: Loss(1.111263), Acc(64.350000)\n"
          ]
        },
        {
          "output_type": "stream",
          "name": "stderr",
          "text": [
            "\r"
          ]
        }
      ]
    },
    {
      "cell_type": "code",
      "source": [
        "def save_model(model, optimizer, epoch, file_path):\n",
        "    \"\"\"\n",
        "    Save the model and optimizer state dictionaries along with the epoch.\n",
        "    \"\"\"\n",
        "    torch.save({\n",
        "        'epoch': epoch,\n",
        "        'model_state_dict': model.state_dict(),\n",
        "        'optimizer_state_dict': optimizer.state_dict(),\n",
        "    }, file_path)\n",
        "    print(f\"Model saved at epoch {epoch} to {file_path}\")\n",
        "\n",
        "def load_model(model, optimizer, file_path, device):\n",
        "    \"\"\"\n",
        "    Load the model and optimizer state dictionaries from a checkpoint.\n",
        "\n",
        "    Returns:\n",
        "        epoch (int): The epoch number stored in the checkpoint.\n",
        "    \"\"\"\n",
        "    checkpoint = torch.load(file_path, map_location=device)\n",
        "    model.load_state_dict(checkpoint['model_state_dict'])\n",
        "    optimizer.load_state_dict(checkpoint['optimizer_state_dict'])\n",
        "    epoch = checkpoint['epoch']\n",
        "    model.to(device)\n",
        "    print(f\"Model loaded from {file_path}, starting at epoch {epoch}\")\n",
        "    return epoch"
      ],
      "metadata": {
        "id": "YaXGt5xUvfCK"
      },
      "execution_count": 20,
      "outputs": []
    },
    {
      "cell_type": "code",
      "source": [
        "save_model(model, optimizer, 10, \"/content/drive/MyDrive/dataset/vit_model_v1.pth\")"
      ],
      "metadata": {
        "colab": {
          "base_uri": "https://localhost:8080/"
        },
        "id": "c-7Ym1JkXQ3m",
        "outputId": "520fff81-d3b9-42c5-8541-48f31db8683f"
      },
      "execution_count": 21,
      "outputs": [
        {
          "output_type": "stream",
          "name": "stdout",
          "text": [
            "Model saved at epoch 10 to /content/drive/MyDrive/dataset/vit_model_v1.pth\n"
          ]
        }
      ]
    },
    {
      "cell_type": "code",
      "source": [
        "train(model,train_loader=train_loader,test_loader=test_loader,criterion=criterion,device=device,optimizer=optimizer)"
      ],
      "metadata": {
        "colab": {
          "base_uri": "https://localhost:8080/"
        },
        "id": "leV6zsUe5vvw",
        "outputId": "45a331ac-50ea-4a1c-f6c3-1b86a1314dc7"
      },
      "execution_count": null,
      "outputs": [
        {
          "output_type": "stream",
          "name": "stderr",
          "text": [
            " 29%|██▉       | 225/782 [01:06<02:48,  3.31it/s]"
          ]
        }
      ]
    },
    {
      "cell_type": "code",
      "source": [],
      "metadata": {
        "id": "9UZ7T6X0y8oA"
      },
      "execution_count": null,
      "outputs": []
    }
  ]
}